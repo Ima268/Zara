{
 "cells": [
  {
   "cell_type": "code",
   "execution_count": 1,
   "id": "5d1dae75",
   "metadata": {},
   "outputs": [
    {
     "name": "stdout",
     "output_type": "stream",
     "text": [
      "✅ Cleaned CSV saved to: cleaned_data\\cleaned_zara.csv\n"
     ]
    }
   ],
   "source": [
    "import pandas as pd\n",
    "import os\n",
    "\n",
    "# Step 1: Set file paths\n",
    "input_file = 'zara.csv'\n",
    "output_folder = 'cleaned_data'\n",
    "output_file = os.path.join(output_folder, 'cleaned_zara.csv')\n",
    "\n",
    "# Step 2: Create the output folder if it doesn't exist\n",
    "os.makedirs(output_folder, exist_ok=True)\n",
    "\n",
    "# Step 3: Load the CSV with proper delimiter handling\n",
    "try:\n",
    "    df = pd.read_csv(input_file)\n",
    "    if df.shape[1] == 1:\n",
    "        # Try semicolon if it looks like one-column data\n",
    "        df = pd.read_csv(input_file, delimiter=';')\n",
    "except pd.errors.ParserError:\n",
    "    df = pd.read_csv(input_file, delimiter=';')\n",
    "\n",
    "# Step 4: Clean column names\n",
    "df.columns = df.columns.str.strip()\n",
    "\n",
    "# Step 5: Drop unwanted columns and rows\n",
    "df = df.loc[:, ~df.columns.str.contains('^Unnamed')]\n",
    "df.dropna(how='all', inplace=True)\n",
    "\n",
    "# Step 6: Save cleaned file\n",
    "df.to_csv(output_file, index=False)\n",
    "print(f\"✅ Cleaned CSV saved to: {output_file}\")\n"
   ]
  }
 ],
 "metadata": {
  "kernelspec": {
   "display_name": "Python 3",
   "language": "python",
   "name": "python3"
  },
  "language_info": {
   "codemirror_mode": {
    "name": "ipython",
    "version": 3
   },
   "file_extension": ".py",
   "mimetype": "text/x-python",
   "name": "python",
   "nbconvert_exporter": "python",
   "pygments_lexer": "ipython3",
   "version": "3.12.2"
  }
 },
 "nbformat": 4,
 "nbformat_minor": 5
}
